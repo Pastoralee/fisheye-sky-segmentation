{
 "cells": [
  {
   "cell_type": "code",
   "execution_count": 1,
   "metadata": {},
   "outputs": [],
   "source": [
    "import GSV_utils as gsv\n",
    "import os\n",
    "import tempfile"
   ]
  },
  {
   "cell_type": "code",
   "execution_count": null,
   "metadata": {},
   "outputs": [],
   "source": [
    "api_key = \"your_api_key\""
   ]
  },
  {
   "cell_type": "code",
   "execution_count": null,
   "metadata": {},
   "outputs": [],
   "source": [
    "def main(panoid, outdir, fisheyesize=1024):\n",
    "    \"\"\"\n",
    "    Run the full process to generate a fisheye image from Google Street View tiles.\n",
    "\n",
    "    Args:\n",
    "        panoid (str): The panorama ID.\n",
    "        outdir (str): Output directory for images.\n",
    "        fisheyesize (int, optional): Output fisheye image size. Default is 1024.\n",
    "    \"\"\"\n",
    "    os.makedirs(outdir, exist_ok=True)\n",
    "    mosaic_path = gsv.assemble_mosaic(panoid, outdir)\n",
    "    if mosaic_path:\n",
    "        fisheye_path = os.path.join(outdir, \"fisheye.png\")\n",
    "        gsv.equirectangular_to_fisheye(mosaic_path, fisheye_path, fisheyesize) #or equirectangular_to_equisolid(final_mosaic_path, fisheye_path, fisheyesize)\n",
    "        print(f\"Fisheye image saved at {fisheye_path}\")\n",
    "    else:\n",
    "        print(\"Failed to create mosaic.\")\n",
    "\n",
    "main(gsv.get_panoid(10.050582795384798, 125.16523037305768, api_key), \"./temp\", fisheyesize=1024)  # Example usage"
   ]
  },
  {
   "cell_type": "code",
   "execution_count": null,
   "metadata": {},
   "outputs": [],
   "source": [
    "def scrap_fisheye_image(api_key, region=\"global\", fisheye_dir=\"fisheye\", mosaic_dir=\"mosaic\"):\n",
    "    \"\"\"\n",
    "    Download and generate a fisheye image from Google Street View for a random land coordinate.\n",
    "\n",
    "    This function selects a random coordinate (globally or within France), retrieves the corresponding\n",
    "    Google Street View panorama, assembles a mosaic from image tiles, converts it to a fisheye projection,\n",
    "    and saves the result. If no panorama is found or mosaic creation fails, it retries automatically.\n",
    "\n",
    "    Args:\n",
    "        api_key (str): Google Street View API key.\n",
    "        region (str, optional): Region to sample coordinates from. \"global\" for worldwide, \"france\" for France only. Default is \"global\".\n",
    "        fisheye_dir (str, optional): Directory to save fisheye images. Default is \"fisheye\".\n",
    "        mosaic_dir (str, optional): Directory to save mosaic images. Default is \"mosaic\".\n",
    "\n",
    "    Returns:\n",
    "        str: Path to the saved fisheye image.\n",
    "    \"\"\"\n",
    "    os.makedirs(fisheye_dir, exist_ok=True)\n",
    "    os.makedirs(mosaic_dir, exist_ok=True)\n",
    "    \n",
    "    # Get random coordinates\n",
    "    if region == \"france\":\n",
    "        lat, lon = gsv.generate_random_around_france_coordinate()\n",
    "    else:\n",
    "        lat, lon = gsv.generate_random_land_coordinate()\n",
    "    \n",
    "    # Get panoid\n",
    "    panoid = gsv.get_panoid(lat, lon, api_key)\n",
    "    if not panoid:\n",
    "        print(\"No panorama found, retrying...\")\n",
    "        return scrap_fisheye_image(api_key, region, fisheye_dir, mosaic_dir)\n",
    "    \n",
    "    # Use a temporary directory for tiles\n",
    "    with tempfile.TemporaryDirectory() as temp_dir:\n",
    "        # Generate mosaic\n",
    "        mosaic_path = gsv.assemble_mosaic(panoid, temp_dir)\n",
    "        if not mosaic_path:\n",
    "            print(\"Failed to create mosaic, retrying...\")\n",
    "            return scrap_fisheye_image(api_key, region, fisheye_dir, mosaic_dir)\n",
    "        \n",
    "        # Move mosaic to permanent directory\n",
    "        final_mosaic_path = os.path.join(mosaic_dir, f\"{lat}_{lon}.png\")\n",
    "        os.rename(mosaic_path, final_mosaic_path)\n",
    "        \n",
    "        # Generate fisheye image\n",
    "        fisheye_path = os.path.join(fisheye_dir, f\"{lat}_{lon}.png\")\n",
    "        gsv.equirectangular_to_fisheye(final_mosaic_path, fisheye_path)  #or equirectangular_to_equisolid(final_mosaic_path, fisheye_path)\n",
    "\n",
    "    print(f\"Fisheye image saved at {fisheye_path}\")\n",
    "    return fisheye_path\n",
    "\n",
    "for i in range(100):\n",
    "    scrap_fisheye_image(api_key, region=\"global\")"
   ]
  }
 ],
 "metadata": {
  "kernelspec": {
   "display_name": "base",
   "language": "python",
   "name": "python3"
  },
  "language_info": {
   "codemirror_mode": {
    "name": "ipython",
    "version": 3
   },
   "file_extension": ".py",
   "mimetype": "text/x-python",
   "name": "python",
   "nbconvert_exporter": "python",
   "pygments_lexer": "ipython3",
   "version": "3.12.7"
  }
 },
 "nbformat": 4,
 "nbformat_minor": 2
}
